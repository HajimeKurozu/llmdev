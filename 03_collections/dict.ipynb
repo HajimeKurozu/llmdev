{
 "cells": [
  {
   "cell_type": "code",
   "execution_count": 1,
   "metadata": {},
   "outputs": [
    {
     "name": "stdout",
     "output_type": "stream",
     "text": [
      "{'one': 1, 'two': 2, 'three': 3}\n",
      "{'name': 'Alice', 'age': 25, 'is_student': False}\n",
      "{}\n"
     ]
    }
   ],
   "source": [
    "numbers = {\"one\": 1, \"two\": 2, \"three\": 3}\n",
    "print(numbers)\n",
    "\n",
    "person = {\"name\": \"Alice\", \"age\": 25, \"is_student\": False}\n",
    "print(person)\n",
    "\n",
    "empty_dict = {}\n",
    "print(empty_dict)"
   ]
  },
  {
   "cell_type": "code",
   "execution_count": 2,
   "metadata": {},
   "outputs": [
    {
     "name": "stdout",
     "output_type": "stream",
     "text": [
      "{'name': 'Bob', 'age': 30, 'is_student': True}\n",
      "{'apple': 100, 'banana': 200, 'cherry': 300}\n"
     ]
    }
   ],
   "source": [
    "person = dict(name=\"Bob\", age=30, is_student=True)\n",
    "print(person)\n",
    "\n",
    "pairs = [(\"apple\", 100), (\"banana\", 200), (\"cherry\", 300)]\n",
    "fruit_prices = dict(pairs)\n",
    "print(fruit_prices) "
   ]
  },
  {
   "cell_type": "code",
   "execution_count": 3,
   "metadata": {},
   "outputs": [
    {
     "name": "stdout",
     "output_type": "stream",
     "text": [
      "{'key1': 0, 'key2': 0, 'key3': 0, 'key4': 0, 'key5': 0}\n"
     ]
    }
   ],
   "source": [
    "keys = [\"key1\", \"key2\", \"key3\", \"key4\", \"key5\"]\n",
    "repeated_values_dict = dict.fromkeys(keys, 0)\n",
    "print(repeated_values_dict)"
   ]
  },
  {
   "cell_type": "code",
   "execution_count": 4,
   "metadata": {},
   "outputs": [
    {
     "name": "stdout",
     "output_type": "stream",
     "text": [
      "100\n",
      "{'apple': 100, 'banana': 250, 'cherry': 300}\n"
     ]
    }
   ],
   "source": [
    "fruit_prices = {\"apple\": 100, \"banana\": 200, \"cherry\": 300}\n",
    "\n",
    "print(fruit_prices[\"apple\"])\n",
    "\n",
    "fruit_prices[\"banana\"] = 250\n",
    "print(fruit_prices)"
   ]
  },
  {
   "cell_type": "code",
   "execution_count": 5,
   "metadata": {},
   "outputs": [
    {
     "name": "stdout",
     "output_type": "stream",
     "text": [
      "{'apple': 100, 'banana': 200, 'grape': 400}\n",
      "{'apple': 100, 'banana': 180, 'grape': 400}\n"
     ]
    }
   ],
   "source": [
    "fruit_prices = {\"apple\": 100, \"banana\": 200}\n",
    "\n",
    "fruit_prices[\"grape\"] = 400\n",
    "print(fruit_prices)\n",
    "\n",
    "fruit_prices[\"banana\"] = 180\n",
    "print(fruit_prices)"
   ]
  },
  {
   "cell_type": "code",
   "execution_count": 6,
   "metadata": {},
   "outputs": [
    {
     "name": "stdout",
     "output_type": "stream",
     "text": [
      "{'apple': 100, 'cherry': 300}\n",
      "200\n",
      "{'apple': 100}\n",
      "{}\n"
     ]
    }
   ],
   "source": [
    "fruit_prices = {\"apple\": 100, \"banana\": 200, \"cherry\": 300}\n",
    "\n",
    "del_price = fruit_prices.pop(\"banana\")\n",
    "print(fruit_prices)\n",
    "print(del_price)\n",
    "\n",
    "del fruit_prices[\"cherry\"]\n",
    "print(fruit_prices)\n",
    "\n",
    "fruit_prices.clear()\n",
    "print(fruit_prices) "
   ]
  },
  {
   "cell_type": "code",
   "execution_count": 7,
   "metadata": {},
   "outputs": [
    {
     "name": "stdout",
     "output_type": "stream",
     "text": [
      "dict_keys(['apple', 'banana', 'cherry'])\n",
      "dict_values([100, 200, 300])\n",
      "dict_items([('apple', 100), ('banana', 200), ('cherry', 300)])\n"
     ]
    }
   ],
   "source": [
    "fruit_prices = {\"apple\": 100, \"banana\": 200, \"cherry\": 300}\n",
    "\n",
    "keys = fruit_prices.keys()\n",
    "print(keys)\n",
    "\n",
    "values = fruit_prices.values()\n",
    "print(values)\n",
    "\n",
    "items = fruit_prices.items()\n",
    "print(items) "
   ]
  },
  {
   "cell_type": "code",
   "execution_count": 8,
   "metadata": {},
   "outputs": [
    {
     "name": "stdout",
     "output_type": "stream",
     "text": [
      "True\n",
      "False\n"
     ]
    }
   ],
   "source": [
    "fruit_prices = {\"apple\": 100, \"banana\": 200, \"cherry\": 300}\n",
    "\n",
    "print(\"apple\" in fruit_prices)\n",
    "print(\"grape\" in fruit_prices)"
   ]
  },
  {
   "cell_type": "code",
   "execution_count": null,
   "metadata": {},
   "outputs": [],
   "source": []
  }
 ],
 "metadata": {
  "kernelspec": {
   "display_name": "base",
   "language": "python",
   "name": "python3"
  },
  "language_info": {
   "codemirror_mode": {
    "name": "ipython",
    "version": 3
   },
   "file_extension": ".py",
   "mimetype": "text/x-python",
   "name": "python",
   "nbconvert_exporter": "python",
   "pygments_lexer": "ipython3",
   "version": "3.12.2"
  }
 },
 "nbformat": 4,
 "nbformat_minor": 2
}
