{
 "cells": [
  {
   "cell_type": "code",
   "execution_count": 2,
   "metadata": {},
   "outputs": [
    {
     "name": "stdout",
     "output_type": "stream",
     "text": [
      "入力した英単語: ['bear', 'cat', 'dog', 'giraffe', 'horse', 'kangaroo']\n",
      "aが5個ありました\n",
      "bが1個ありました\n",
      "cが1個ありました\n",
      "dが1個ありました\n",
      "eが3個ありました\n",
      "fが2個ありました\n",
      "gが3個ありました\n",
      "hが1個ありました\n",
      "iが1個ありました\n",
      "kが1個ありました\n",
      "nが1個ありました\n",
      "oが4個ありました\n",
      "rが4個ありました\n",
      "sが1個ありました\n",
      "tが1個ありました\n"
     ]
    }
   ],
   "source": [
    "word_list = []\n",
    "s = 'abcdefghijklmnopqrstuvwxyz'\n",
    "a = dict.fromkeys(s, 0)\n",
    "\n",
    "while True:\n",
    "    word = input('英単語を入力してください：')\n",
    "    if word == \"\":\n",
    "        break\n",
    "    word_list.append(word)\n",
    "    for w in word:\n",
    "        for key in a.keys():\n",
    "            if w == key:\n",
    "                a[key] += 1\n",
    "\n",
    "word_list.sort()\n",
    "print('入力した英単語:', word_list)\n",
    "for key, value in a.items():\n",
    "    if value > 0:\n",
    "        print(f'{key}が{value}個ありました')"
   ]
  }
 ],
 "metadata": {
  "kernelspec": {
   "display_name": "base",
   "language": "python",
   "name": "python3"
  },
  "language_info": {
   "codemirror_mode": {
    "name": "ipython",
    "version": 3
   },
   "file_extension": ".py",
   "mimetype": "text/x-python",
   "name": "python",
   "nbconvert_exporter": "python",
   "pygments_lexer": "ipython3",
   "version": "3.12.2"
  }
 },
 "nbformat": 4,
 "nbformat_minor": 2
}
