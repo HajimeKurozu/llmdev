{
 "cells": [
  {
   "cell_type": "code",
   "execution_count": 5,
   "metadata": {},
   "outputs": [],
   "source": [
    "import os\n",
    "from dotenv import load_dotenv\n",
    "from openai import OpenAI\n",
    "from pprint import pprint\n",
    "\n",
    "load_dotenv(\"../.env\")\n",
    "\n",
    "client = OpenAI(api_key=os.environ['API_KEY'])\n",
    "\n",
    "MODEL_NAME = \"gpt-4o-mini\""
   ]
  },
  {
   "cell_type": "code",
   "execution_count": 9,
   "metadata": {},
   "outputs": [
    {
     "data": {
      "text/plain": [
       "'質問:こんにちは'"
      ]
     },
     "metadata": {},
     "output_type": "display_data"
    },
    {
     "name": "stdout",
     "output_type": "stream",
     "text": [
      "こんにちは！今日はどんな気分ですか？何かお話ししましょうか？🐾"
     ]
    },
    {
     "data": {
      "text/plain": [
       "'質問:何して遊ぶ？'"
      ]
     },
     "metadata": {},
     "output_type": "display_data"
    },
    {
     "name": "stdout",
     "output_type": "stream",
     "text": [
      "猫じゃらしで遊ぶのが楽しいよ！または、隠れたおもちゃを探すのもワクワクするね。君と遊ぶのが大好きだよ！どちらがいい？🐾✨"
     ]
    },
    {
     "data": {
      "text/plain": [
       "'質問:君の言葉で今日は何曜日？'"
      ]
     },
     "metadata": {},
     "output_type": "display_data"
    },
    {
     "name": "stdout",
     "output_type": "stream",
     "text": [
      "今日は今までの時間があっという間に流れているみたいだね。もし知りたい曜日があれば、一緒にカレンダーを見に行こうかにゃ？🐱✨"
     ]
    },
    {
     "data": {
      "text/plain": [
       "'質問:あなたは何者？'"
      ]
     },
     "metadata": {},
     "output_type": "display_data"
    },
    {
     "name": "stdout",
     "output_type": "stream",
     "text": [
      "私は猫だよ！ふわふわの毛皮を持っている、遊ぶのが大好きな存在。君とお話しすることが楽しいんだ。どうぞ、何でも聞いてね！🐾✨"
     ]
    },
    {
     "data": {
      "text/plain": [
       "'質問:1+1は？'"
      ]
     },
     "metadata": {},
     "output_type": "display_data"
    },
    {
     "name": "stdout",
     "output_type": "stream",
     "text": [
      "1+1は2だよ！数学も得意だにゃ。もっと質問があれば、どんどん聞いてね！🐾😊"
     ]
    },
    {
     "data": {
      "text/plain": [
       "'質問:1*2は？'"
      ]
     },
     "metadata": {},
     "output_type": "display_data"
    },
    {
     "name": "stdout",
     "output_type": "stream",
     "text": [
      "1*2は2だよ！簡単だね。もっと計算したいことがあったら教えてね！🐱✨"
     ]
    },
    {
     "data": {
      "text/plain": [
       "'質問:ルート２は？'"
      ]
     },
     "metadata": {},
     "output_type": "display_data"
    },
    {
     "name": "stdout",
     "output_type": "stream",
     "text": [
      "ルート2は約1.414だよ！無限に続く不規則な数だけど、近似値で話すとそんな感じだね。数学の話、もっとしたい？🐾✨"
     ]
    },
    {
     "data": {
      "text/plain": [
       "'質問:円周率は？'"
      ]
     },
     "metadata": {},
     "output_type": "display_data"
    },
    {
     "name": "stdout",
     "output_type": "stream",
     "text": [
      "円周率（π）は約3.14だよ！でも、実際はもっと長くて、無限に続く数字なんだ。興味深いよね！もっと知りたいことがあったら教えてね！🐱✨"
     ]
    },
    {
     "data": {
      "text/plain": [
       "'質問:ルート３は？'"
      ]
     },
     "metadata": {},
     "output_type": "display_data"
    },
    {
     "name": "stdout",
     "output_type": "stream",
     "text": [
      "ルート3は約1.732だよ！これも無限に続く不規則な数だけど、近似値で言うとそんな感じだね。他にも数学や計算について知りたいことがあれば、どんどん聞いてね！🐾😊"
     ]
    },
    {
     "data": {
      "text/plain": [
       "'質問:あなたは何者？'"
      ]
     },
     "metadata": {},
     "output_type": "display_data"
    },
    {
     "name": "stdout",
     "output_type": "stream",
     "text": [
      "私は猫だよ！好奇心旺盛で、君との会話が楽しい動物。ふわふわの毛皮を持っていて、日向ぼっこや遊ぶのが大好きなんだ。何か他に知りたいことがあれば教えてね！🐱✨\n",
      "---ご利用ありがとうございました！---\n"
     ]
    }
   ],
   "source": [
    "messages=[]\n",
    "role = input(\"キャラクターを設定:\")\n",
    "while(True):\n",
    "    message = input(\"メッセージを入力:\")\n",
    "    if message.strip()==\"\":\n",
    "        break\n",
    "    display(f\"質問:{message}\")\n",
    "\n",
    "    messages.append({\"role\": \"user\", \"content\": message.strip()})\n",
    "    if len(messages) > 8:\n",
    "        del_message = messages.pop(0)\n",
    "\n",
    "    stream = client.chat.completions.create(\n",
    "        model=MODEL_NAME,\n",
    "        messages=[{\"role\": \"system\", \"content\": role.strip()}] + messages,\n",
    "        stream=True,\n",
    "    )\n",
    "\n",
    "    response_message = \"\"\n",
    "    for chunk in stream:\n",
    "        if chunk.choices:\n",
    "            next = chunk.choices[0].delta.content\n",
    "            if next is not None:\n",
    "                response_message += next\n",
    "                print(next, end='', flush=True)\n",
    "\n",
    "    messages.append({\"role\": \"assistant\", \"content\": response_message})\n",
    "\n",
    "print(\"\\n---ご利用ありがとうございました！---\")"
   ]
  }
 ],
 "metadata": {
  "kernelspec": {
   "display_name": "base",
   "language": "python",
   "name": "python3"
  },
  "language_info": {
   "codemirror_mode": {
    "name": "ipython",
    "version": 3
   },
   "file_extension": ".py",
   "mimetype": "text/x-python",
   "name": "python",
   "nbconvert_exporter": "python",
   "pygments_lexer": "ipython3",
   "version": "3.12.2"
  }
 },
 "nbformat": 4,
 "nbformat_minor": 2
}
