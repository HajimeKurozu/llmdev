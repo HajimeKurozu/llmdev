{
 "cells": [
  {
   "cell_type": "code",
   "execution_count": null,
   "metadata": {},
   "outputs": [
    {
     "name": "stdout",
     "output_type": "stream",
     "text": [
      "1300\n",
      "エラー: 残高不足または無効な金額です\n",
      "エラー: 正しい金額を入力してください\n"
     ]
    }
   ],
   "source": [
    "class BankAccount:\n",
    "\n",
    "    def __init__(self, balance):\n",
    "        self._balance = balance\n",
    "    \n",
    "    def deposit(self, amount):\n",
    "        if amount < 0:\n",
    "            print('エラー: 正しい金額を入力してください')\n",
    "        else:\n",
    "            self._balance += amount\n",
    "\n",
    "    def withdraw(self, amount):\n",
    "        if amount > self._balance or amount < 0:\n",
    "            print('エラー: 残高不足または無効な金額です')\n",
    "        else:\n",
    "            self._balance -= amount\n",
    "\n",
    "    def get_balance(self):\n",
    "        return self._balance\n",
    "    \n",
    "\n",
    "init = BankAccount(1000) \n",
    "init.deposit(500)\n",
    "init.withdraw(200)\n",
    "print(init.get_balance())\n",
    "init.withdraw(1500)\n",
    "init.deposit(-500)"
   ]
  }
 ],
 "metadata": {
  "kernelspec": {
   "display_name": "base",
   "language": "python",
   "name": "python3"
  },
  "language_info": {
   "codemirror_mode": {
    "name": "ipython",
    "version": 3
   },
   "file_extension": ".py",
   "mimetype": "text/x-python",
   "name": "python",
   "nbconvert_exporter": "python",
   "pygments_lexer": "ipython3",
   "version": "3.12.2"
  }
 },
 "nbformat": 4,
 "nbformat_minor": 2
}
