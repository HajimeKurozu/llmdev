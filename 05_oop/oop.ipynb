{
 "cells": [
  {
   "cell_type": "code",
   "execution_count": 1,
   "metadata": {},
   "outputs": [],
   "source": [
    "class Dog:\n",
    "    species = \"イヌ科イヌ属\"\n",
    "    \n",
    "    def __init__(self, name, age):\n",
    "        self.name = name\n",
    "        self.age = age\n",
    "        \n",
    "    def bark(self):\n",
    "        return f\"{self.name}、{self.age}歳だよ。ワン！\""
   ]
  },
  {
   "cell_type": "code",
   "execution_count": 2,
   "metadata": {},
   "outputs": [
    {
     "name": "stdout",
     "output_type": "stream",
     "text": [
      "ジョン、3歳だよ。ワン！\n",
      "ポチ、5歳だよ。ワン！\n"
     ]
    }
   ],
   "source": [
    "dog1 = Dog(\"ジョン\", 3)\n",
    "dog2 = Dog(\"ポチ\", 5)\n",
    "\n",
    "print(dog1.bark())\n",
    "print(dog2.bark())"
   ]
  },
  {
   "cell_type": "code",
   "execution_count": 3,
   "metadata": {},
   "outputs": [
    {
     "name": "stdout",
     "output_type": "stream",
     "text": [
      "ポチ\n",
      "ジョン\n"
     ]
    }
   ],
   "source": [
    "class Dog:\n",
    "    def __init__(self, name, age):\n",
    "        self.name = name\n",
    "        self.age = age\n",
    "        \n",
    "dog = Dog(\"ポチ\", 5)\n",
    "print(dog.name)\n",
    "dog.name = \"ジョン\"\n",
    "print(dog.name)"
   ]
  },
  {
   "cell_type": "code",
   "execution_count": null,
   "metadata": {},
   "outputs": [
    {
     "name": "stdout",
     "output_type": "stream",
     "text": [
      "ポチ\n"
     ]
    },
    {
     "ename": "AttributeError",
     "evalue": "'Dog' object has no attribute '__age'",
     "output_type": "error",
     "traceback": [
      "\u001b[0;31m---------------------------------------------------------------------------\u001b[0m",
      "\u001b[0;31mAttributeError\u001b[0m                            Traceback (most recent call last)",
      "Cell \u001b[0;32mIn[8], line 8\u001b[0m\n\u001b[1;32m      6\u001b[0m dog \u001b[38;5;241m=\u001b[39m Dog(\u001b[38;5;124m\"\u001b[39m\u001b[38;5;124mポチ\u001b[39m\u001b[38;5;124m\"\u001b[39m, \u001b[38;5;241m5\u001b[39m)\n\u001b[1;32m      7\u001b[0m \u001b[38;5;28mprint\u001b[39m(dog\u001b[38;5;241m.\u001b[39m_name)\n\u001b[0;32m----> 8\u001b[0m \u001b[38;5;28mprint\u001b[39m(dog\u001b[38;5;241m.\u001b[39m__age)\n\u001b[1;32m      9\u001b[0m \u001b[38;5;28mprint\u001b[39m(dog\u001b[38;5;241m.\u001b[39m_Dog__age)\n",
      "\u001b[0;31mAttributeError\u001b[0m: 'Dog' object has no attribute '__age'"
     ]
    }
   ],
   "source": [
    "class Dog:\n",
    "    def __init__(self, name, age):\n",
    "        self._name = name\n",
    "        self.__age = age\n",
    "        \n",
    "dog = Dog(\"ポチ\", 5)\n",
    "print(dog._name)\n",
    "#print(dog.__age)\n",
    "print(dog._Dog__age)"
   ]
  },
  {
   "cell_type": "code",
   "execution_count": 19,
   "metadata": {},
   "outputs": [
    {
     "name": "stdout",
     "output_type": "stream",
     "text": [
      "ポチ\n",
      "ジョン\n"
     ]
    }
   ],
   "source": [
    "class Dog:\n",
    "    def __init__(self, name, age):\n",
    "        self._name = name\n",
    "        self._age = age\n",
    "\n",
    "    def get_name(self):\n",
    "        return self._name\n",
    "\n",
    "    def set_name(self, name):\n",
    "        if len(name) > 0:\n",
    "            self._name = name\n",
    "        else:\n",
    "            print(\"名前が空です。正しい名前を入力してください。\")\n",
    "\n",
    "    def get_age(self):\n",
    "        return self._age\n",
    "\n",
    "    def set_age(self, age):\n",
    "        if age > 0:\n",
    "            self._age = age\n",
    "        else:\n",
    "            print(\"年齢は1以上に設定してください。\")\n",
    "\n",
    "dog = Dog(\"ポチ\", 5)\n",
    "print(dog.get_name())\n",
    "dog.set_name(\"ジョン\")\n",
    "print(dog.get_name())"
   ]
  },
  {
   "cell_type": "code",
   "execution_count": 24,
   "metadata": {},
   "outputs": [
    {
     "name": "stdout",
     "output_type": "stream",
     "text": [
      "ポチ\n",
      "ジョン\n",
      "5\n",
      "10\n"
     ]
    }
   ],
   "source": [
    "class Dog:\n",
    "    def __init__(self, name, age):\n",
    "        self._name = name\n",
    "        self._age = age\n",
    "\n",
    "    @property\n",
    "    def name(self):\n",
    "        return self._name\n",
    "\n",
    "    @name.setter\n",
    "    def name(self, name):\n",
    "        if len(name) > 0:\n",
    "            self._name = name\n",
    "        else:\n",
    "            print(\"名前が空です。正しい名前を入力してください。\")\n",
    "\n",
    "    @property\n",
    "    def age(self):\n",
    "        return self._age\n",
    "\n",
    "    @age.setter\n",
    "    def age(self, age):\n",
    "        if age > 0:\n",
    "            self._age = age\n",
    "        else:\n",
    "            print(\"年齢は1以上に設定してください。\")\n",
    "\n",
    "dog = Dog(\"ポチ\", 5)\n",
    "print(dog.name)\n",
    "dog.name = \"ジョン\"\n",
    "print(dog.name)\n",
    "print(dog.age)\n",
    "dog.age = 10\n",
    "print(dog.age)"
   ]
  },
  {
   "cell_type": "code",
   "execution_count": 25,
   "metadata": {},
   "outputs": [
    {
     "name": "stdout",
     "output_type": "stream",
     "text": [
      "何か音を出しています。\n",
      "何か音を出しています。\n",
      "ワンワン！\n"
     ]
    }
   ],
   "source": [
    "class Animal:\n",
    "    def __init__(self, name, age):\n",
    "        self.name = name\n",
    "        self.age = age\n",
    "\n",
    "    def speak(self):\n",
    "        return \"何か音を出しています。\"\n",
    "\n",
    "class Dog(Animal):\n",
    "    def bark(self):\n",
    "        return \"ワンワン！\"\n",
    "\n",
    "animal = Animal(\"生き物\", 5)\n",
    "print(animal.speak())\n",
    "\n",
    "dog = Dog(\"ポチ\", 3)\n",
    "print(dog.speak())\n",
    "print(dog.bark())"
   ]
  },
  {
   "cell_type": "code",
   "execution_count": 26,
   "metadata": {},
   "outputs": [
    {
     "name": "stdout",
     "output_type": "stream",
     "text": [
      "ポチ はワンワンと吠えています！\n"
     ]
    }
   ],
   "source": [
    "class Animal:\n",
    "    def __init__(self, name, age):\n",
    "        self.name = name\n",
    "        self.age = age\n",
    "\n",
    "    def speak(self):\n",
    "        return \"何か音を出しています。\"\n",
    "\n",
    "class Dog(Animal):\n",
    "    def speak(self):\n",
    "        return f\"{self.name} はワンワンと吠えています！\"\n",
    "\n",
    "dog = Dog(\"ポチ\", 3)\n",
    "print(dog.speak())"
   ]
  },
  {
   "cell_type": "code",
   "execution_count": 27,
   "metadata": {},
   "outputs": [
    {
     "name": "stdout",
     "output_type": "stream",
     "text": [
      "何か音を出しています。 そして、ポチ はワンワンと吠えています！\n"
     ]
    }
   ],
   "source": [
    "class Animal:\n",
    "    def __init__(self, name, age):\n",
    "        self.name = name\n",
    "        self.age = age\n",
    "\n",
    "    def speak(self):\n",
    "        return \"何か音を出しています。\"\n",
    "\n",
    "class Dog(Animal):\n",
    "    def speak(self):\n",
    "        parent_message = super().speak()\n",
    "        return f\"{parent_message} そして、{self.name} はワンワンと吠えています！\"\n",
    "\n",
    "dog = Dog(\"ポチ\", 3)\n",
    "print(dog.speak())"
   ]
  },
  {
   "cell_type": "code",
   "execution_count": 30,
   "metadata": {},
   "outputs": [
    {
     "name": "stdout",
     "output_type": "stream",
     "text": [
      "ポチ はワンワンと吠えています！\n",
      "3\n",
      "ミケ はニャーと鳴いています！\n",
      "2\n"
     ]
    }
   ],
   "source": [
    "class Animal:\n",
    "    def __init__(self, name, age):\n",
    "        self.name = name\n",
    "        self.age = age\n",
    "\n",
    "    def speak(self):\n",
    "        return \"何か音を出しています。\"\n",
    "\n",
    "class Dog(Animal):\n",
    "    def speak(self):\n",
    "        return f\"{self.name} はワンワンと吠えています！\"\n",
    "\n",
    "class Cat(Animal):\n",
    "    def speak(self):\n",
    "        return f\"{self.name} はニャーと鳴いています！\"\n",
    "\n",
    "dog = Dog(\"ポチ\", 3)\n",
    "cat = Cat(\"ミケ\", 2)\n",
    "\n",
    "print(dog.speak())\n",
    "print(dog.age)\n",
    "print(cat.speak())\n",
    "print(cat.age)"
   ]
  },
  {
   "cell_type": "code",
   "execution_count": 29,
   "metadata": {},
   "outputs": [
    {
     "name": "stdout",
     "output_type": "stream",
     "text": [
      "ワンワン！\n",
      "ニャー！\n"
     ]
    }
   ],
   "source": [
    "class Animal:\n",
    "    def speak(self):\n",
    "        return \"何か音を出しています。\"\n",
    "\n",
    "class Dog(Animal):\n",
    "    def speak(self):\n",
    "        return \"ワンワン！\"\n",
    "\n",
    "class Cat(Animal):\n",
    "    def speak(self):\n",
    "        return \"ニャー！\"\n",
    "\n",
    "dog = Dog()\n",
    "cat = Cat()\n",
    "\n",
    "print(dog.speak())\n",
    "print(cat.speak())"
   ]
  }
 ],
 "metadata": {
  "kernelspec": {
   "display_name": "base",
   "language": "python",
   "name": "python3"
  },
  "language_info": {
   "codemirror_mode": {
    "name": "ipython",
    "version": 3
   },
   "file_extension": ".py",
   "mimetype": "text/x-python",
   "name": "python",
   "nbconvert_exporter": "python",
   "pygments_lexer": "ipython3",
   "version": "3.12.2"
  }
 },
 "nbformat": 4,
 "nbformat_minor": 2
}
