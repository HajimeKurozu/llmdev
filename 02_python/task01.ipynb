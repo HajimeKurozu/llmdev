{
 "cells": [
  {
   "cell_type": "code",
   "execution_count": 3,
   "metadata": {},
   "outputs": [
    {
     "name": "stdout",
     "output_type": "stream",
     "text": [
      "はじめまして、 黒図肇 と申します。\n",
      "年齢は 56 歳です。来年は 57 歳になります。\n",
      "よろしくお願いします。\n"
     ]
    }
   ],
   "source": [
    "name = '黒図肇'\n",
    "age = 56\n",
    "\n",
    "print('はじめまして、', name, 'と申します。')\n",
    "print('年齢は', age, '歳です。来年は', age+1, '歳になります。')\n",
    "print('よろしくお願いします。')"
   ]
  }
 ],
 "metadata": {
  "kernelspec": {
   "display_name": "base",
   "language": "python",
   "name": "python3"
  },
  "language_info": {
   "codemirror_mode": {
    "name": "ipython",
    "version": 3
   },
   "file_extension": ".py",
   "mimetype": "text/x-python",
   "name": "python",
   "nbconvert_exporter": "python",
   "pygments_lexer": "ipython3",
   "version": "3.12.2"
  }
 },
 "nbformat": 4,
 "nbformat_minor": 2
}
