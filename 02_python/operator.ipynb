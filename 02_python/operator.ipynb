{
 "cells": [
  {
   "cell_type": "code",
   "execution_count": 1,
   "metadata": {},
   "outputs": [
    {
     "name": "stdout",
     "output_type": "stream",
     "text": [
      "加算:  13\n",
      "減算:  7\n",
      "乗算:  30\n",
      "割算（浮動小数点）:  3.3333333333333335\n",
      "整数除算:  3\n",
      "余り:  1\n",
      "累乗:  1000\n"
     ]
    }
   ],
   "source": [
    "a = 10\n",
    "b = 3\n",
    "\n",
    "sum_result = a + b\n",
    "diff_result = a - b\n",
    "product_result = a * b\n",
    "quotient_result = a / b\n",
    "int_quotient_result = a // b\n",
    "remainder_result = a % b\n",
    "power_result = a ** b\n",
    "\n",
    "print(\"加算: \", sum_result)\n",
    "print(\"減算: \", diff_result)\n",
    "print(\"乗算: \", product_result)\n",
    "print(\"割算（浮動小数点）: \", quotient_result)\n",
    "print(\"整数除算: \", int_quotient_result)\n",
    "print(\"余り: \", remainder_result)\n",
    "print(\"累乗: \", power_result)"
   ]
  },
  {
   "cell_type": "code",
   "execution_count": 2,
   "metadata": {},
   "outputs": [
    {
     "name": "stdout",
     "output_type": "stream",
     "text": [
      "x += 5:  15\n",
      "x -= 3:  12\n",
      "x *= 2:  24\n",
      "x /= 4:  6.0\n",
      "x //= 5:  1.0\n",
      "x %= 3:  1.0\n",
      "x **= 3:  1.0\n"
     ]
    }
   ],
   "source": [
    "x = 10\n",
    "\n",
    "x += 5\n",
    "print(\"x += 5: \", x)\n",
    "\n",
    "x -= 3\n",
    "print(\"x -= 3: \", x)\n",
    "\n",
    "x *= 2\n",
    "print(\"x *= 2: \", x)\n",
    "\n",
    "x /= 4\n",
    "print(\"x /= 4: \", x)\n",
    "\n",
    "x //= 5\n",
    "print(\"x //= 5: \", x)\n",
    "\n",
    "x %= 3\n",
    "print(\"x %= 3: \", x)\n",
    "\n",
    "x **= 3\n",
    "print(\"x **= 3: \", x)"
   ]
  },
  {
   "cell_type": "code",
   "execution_count": 3,
   "metadata": {},
   "outputs": [
    {
     "name": "stdout",
     "output_type": "stream",
     "text": [
      "a > b:  True\n",
      "a < b:  False\n",
      "a >= b:  True\n",
      "a <= b:  False\n",
      "a == b:  False\n",
      "a != b:  True\n"
     ]
    }
   ],
   "source": [
    "a = 10\n",
    "b = 5\n",
    "\n",
    "print(\"a > b: \", a > b)\n",
    "print(\"a < b: \", a < b)\n",
    "print(\"a >= b: \", a >= b)\n",
    "print(\"a <= b: \", a <= b)\n",
    "print(\"a == b: \", a == b)\n",
    "print(\"a != b: \", a != b)"
   ]
  },
  {
   "cell_type": "code",
   "execution_count": 4,
   "metadata": {},
   "outputs": [
    {
     "name": "stdout",
     "output_type": "stream",
     "text": [
      "100 < x < 200:  True\n",
      "100 < y < 200:  False\n"
     ]
    }
   ],
   "source": [
    "x = 150\n",
    "print(\"100 < x < 200: \", 100 < x < 200)\n",
    "\n",
    "y = 50\n",
    "print(\"100 < y < 200: \", 100 < y < 200)"
   ]
  },
  {
   "cell_type": "code",
   "execution_count": 5,
   "metadata": {},
   "outputs": [
    {
     "name": "stdout",
     "output_type": "stream",
     "text": [
      "10 < x and x < 20:  True\n",
      "x < 10 or x > 20:  False\n",
      "not (x == 15):  False\n"
     ]
    }
   ],
   "source": [
    "x = 15\n",
    "print(\"10 < x and x < 20: \", 10 < x and x < 20)\n",
    "print(\"x < 10 or x > 20: \", x < 10 or x > 20)\n",
    "print(\"not (x == 15): \", not (x == 15)) "
   ]
  },
  {
   "cell_type": "code",
   "execution_count": 6,
   "metadata": {},
   "outputs": [
    {
     "name": "stdout",
     "output_type": "stream",
     "text": [
      "a & b:  0b1000\n",
      "a | b:  0b1110\n",
      "a ^ b:  0b110\n",
      "a << 1:  0b11000\n",
      "a >> 1:  0b110\n"
     ]
    }
   ],
   "source": [
    "a = 0b1100  # 12\n",
    "b = 0b1010  # 10\n",
    "\n",
    "print(\"a & b: \", bin(a & b))  # aとbのビットの両方が 1 のときのみ 1、それ以外は 0\n",
    "print(\"a | b: \", bin(a | b))  # aとbのどちらかのビットが 1 であれば 1、でなければ 0\n",
    "print(\"a ^ b: \", bin(a ^ b))  # aとbのビットが異なれば 1、同じなら 0\n",
    "print(\"a << 1: \", bin(a << 1)) # aのビットを1つ左にシフト（2倍）\n",
    "print(\"a >> 1: \", bin(a >> 1)) # aのビットを1つ右にシフト（2で割る）"
   ]
  }
 ],
 "metadata": {
  "kernelspec": {
   "display_name": "base",
   "language": "python",
   "name": "python3"
  },
  "language_info": {
   "codemirror_mode": {
    "name": "ipython",
    "version": 3
   },
   "file_extension": ".py",
   "mimetype": "text/x-python",
   "name": "python",
   "nbconvert_exporter": "python",
   "pygments_lexer": "ipython3",
   "version": "3.12.2"
  }
 },
 "nbformat": 4,
 "nbformat_minor": 2
}
