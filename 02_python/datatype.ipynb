{
 "cells": [
  {
   "cell_type": "code",
   "execution_count": 1,
   "metadata": {},
   "outputs": [
    {
     "name": "stdout",
     "output_type": "stream",
     "text": [
      "a: 10\n",
      "b: -5\n",
      "c: 0\n",
      "合計: 5\n",
      "積: -50\n"
     ]
    }
   ],
   "source": [
    "a = 10\n",
    "b = -5\n",
    "c = 0\n",
    "\n",
    "sum_result = a + b\n",
    "product_result = a * b\n",
    "\n",
    "print(\"a:\", a)\n",
    "print(\"b:\", b)\n",
    "print(\"c:\", c)\n",
    "print(\"合計:\", sum_result)\n",
    "print(\"積:\", product_result)"
   ]
  },
  {
   "cell_type": "code",
   "execution_count": 2,
   "metadata": {},
   "outputs": [
    {
     "name": "stdout",
     "output_type": "stream",
     "text": [
      "除算結果: 3.3333333333333335\n",
      "整数除算結果: 3\n"
     ]
    }
   ],
   "source": [
    "division_result = a / 3\n",
    "integer_division_result = a // 3\n",
    "\n",
    "print(\"除算結果:\", division_result)\n",
    "print(\"整数除算結果:\", integer_division_result)"
   ]
  },
  {
   "cell_type": "code",
   "execution_count": 3,
   "metadata": {},
   "outputs": [
    {
     "name": "stdout",
     "output_type": "stream",
     "text": [
      "x: 3.14\n",
      "y: -0.5\n",
      "z: 2.0\n",
      "合計: 2.64\n",
      "積: -1.57\n"
     ]
    }
   ],
   "source": [
    "x = 3.14\n",
    "y = -0.5\n",
    "z = 2.0\n",
    "\n",
    "sum_result = x + y\n",
    "product_result = x * y\n",
    "\n",
    "print(\"x:\", x)\n",
    "print(\"y:\", y)\n",
    "print(\"z:\", z)\n",
    "print(\"合計:\", sum_result)\n",
    "print(\"積:\", product_result)"
   ]
  },
  {
   "cell_type": "code",
   "execution_count": 4,
   "metadata": {},
   "outputs": [
    {
     "name": "stdout",
     "output_type": "stream",
     "text": [
      "0.1 + 0.2 = 0.30000000000000004\n"
     ]
    }
   ],
   "source": [
    "result = 0.1 + 0.2\n",
    "print(\"0.1 + 0.2 =\", result)"
   ]
  },
  {
   "cell_type": "code",
   "execution_count": 5,
   "metadata": {},
   "outputs": [
    {
     "name": "stdout",
     "output_type": "stream",
     "text": [
      "a の型: <class 'int'>\n",
      "b の型: <class 'float'>\n"
     ]
    }
   ],
   "source": [
    "a = 10\n",
    "b = float(a)\n",
    "\n",
    "print(\"a の型:\", type(a))\n",
    "print(\"b の型:\", type(b))"
   ]
  },
  {
   "cell_type": "code",
   "execution_count": 6,
   "metadata": {},
   "outputs": [
    {
     "name": "stdout",
     "output_type": "stream",
     "text": [
      "x の型: <class 'float'>\n",
      "y の型: <class 'int'>\n",
      "y の値: 3\n"
     ]
    }
   ],
   "source": [
    "x = 3.99\n",
    "y = int(x)\n",
    "\n",
    "print(\"x の型:\", type(x))\n",
    "print(\"y の型:\", type(y))\n",
    "print(\"y の値:\", y)"
   ]
  },
  {
   "cell_type": "code",
   "execution_count": 7,
   "metadata": {},
   "outputs": [
    {
     "name": "stdout",
     "output_type": "stream",
     "text": [
      "12300.0\n"
     ]
    }
   ],
   "source": [
    "num = 1.23e4\n",
    "print(num)"
   ]
  },
  {
   "cell_type": "code",
   "execution_count": 8,
   "metadata": {},
   "outputs": [
    {
     "name": "stdout",
     "output_type": "stream",
     "text": [
      "0.000123\n"
     ]
    }
   ],
   "source": [
    "num = 1.23e-4\n",
    "print(num)"
   ]
  },
  {
   "cell_type": "code",
   "execution_count": 9,
   "metadata": {},
   "outputs": [
    {
     "name": "stdout",
     "output_type": "stream",
     "text": [
      "c1: (2+3j)\n",
      "c2: (-1+0.5j)\n",
      "合計: (1+3.5j)\n",
      "積: (-3.5-2j)\n"
     ]
    }
   ],
   "source": [
    "c1 = 2 + 3j\n",
    "c2 = -1 + 0.5j\n",
    "\n",
    "sum_result = c1 + c2\n",
    "product_result = c1 * c2\n",
    "\n",
    "print(\"c1:\", c1)\n",
    "print(\"c2:\", c2)\n",
    "print(\"合計:\", sum_result)\n",
    "print(\"積:\", product_result)"
   ]
  },
  {
   "cell_type": "code",
   "execution_count": 10,
   "metadata": {},
   "outputs": [
    {
     "name": "stdout",
     "output_type": "stream",
     "text": [
      "「'」はシングルクォートです。\n",
      "「\"」はダブルクォートです。\n"
     ]
    }
   ],
   "source": [
    "text1 = \"「'」はシングルクォートです。\"\n",
    "text2 = '「\"」はダブルクォートです。'\n",
    "print(text1)\n",
    "print(text2)"
   ]
  },
  {
   "cell_type": "code",
   "execution_count": 12,
   "metadata": {},
   "outputs": [
    {
     "name": "stdout",
     "output_type": "stream",
     "text": [
      "Hello World\n",
      "Hi! Hi! Hi! \n",
      "文字列の長さ: 13\n"
     ]
    }
   ],
   "source": [
    "text1 = 'Hello'\n",
    "text2 = 'World'\n",
    "result = text1 + ' ' + text2\n",
    "print(result)\n",
    "\n",
    "text = 'Hi! '\n",
    "print(text * 3)\n",
    "\n",
    "length = len('Hello, World!')\n",
    "print('文字列の長さ:', length)"
   ]
  },
  {
   "cell_type": "code",
   "execution_count": 13,
   "metadata": {},
   "outputs": [
    {
     "name": "stdout",
     "output_type": "stream",
     "text": [
      "PYTHON\n",
      "python\n",
      "Helo, Python\n",
      "Hello, World!\n",
      "7\n"
     ]
    }
   ],
   "source": [
    "text = 'Python'\n",
    "print(text.upper())\n",
    "print(text.lower())\n",
    "\n",
    "text = 'Helo, World'\n",
    "print(text.replace('World', 'Python'))\n",
    "\n",
    "text = '  Hello, World!  '\n",
    "print(text.strip())\n",
    "\n",
    "text = 'Hello, World'\n",
    "print(text.find('World'))"
   ]
  },
  {
   "cell_type": "code",
   "execution_count": 14,
   "metadata": {},
   "outputs": [
    {
     "name": "stdout",
     "output_type": "stream",
     "text": [
      "エスケープを使うと、「'」シングルクォートと「\"」ダブルクォートを混在させたり、\n",
      "改行や\tタブを入れたりと多彩な表現が可能です\n"
     ]
    }
   ],
   "source": [
    "print(\"エスケープを使うと、「\\'」シングルクォートと「\\\"」ダブルクォートを混在させたり、\\n改行や\\tタブを入れたりと多彩な表現が可能です\")"
   ]
  },
  {
   "cell_type": "code",
   "execution_count": 15,
   "metadata": {},
   "outputs": [
    {
     "name": "stdout",
     "output_type": "stream",
     "text": [
      "A様\n",
      "いつもお世話になっております。Bです。\n",
      "先日はお越しくださりありがとうございました。\n",
      "またのご来店をお待ちしております。\n"
     ]
    }
   ],
   "source": [
    "message = '''A様\n",
    "いつもお世話になっております。Bです。\n",
    "先日はお越しくださりありがとうございました。\n",
    "またのご来店をお待ちしております。'''\n",
    "\n",
    "print(message)"
   ]
  },
  {
   "cell_type": "code",
   "execution_count": 16,
   "metadata": {},
   "outputs": [
    {
     "ename": "TypeError",
     "evalue": "can't multiply sequence by non-int of type 'float'",
     "output_type": "error",
     "traceback": [
      "\u001b[0;31m---------------------------------------------------------------------------\u001b[0m",
      "\u001b[0;31mTypeError\u001b[0m                                 Traceback (most recent call last)",
      "Cell \u001b[0;32mIn[16], line 2\u001b[0m\n\u001b[1;32m      1\u001b[0m price \u001b[38;5;241m=\u001b[39m \u001b[38;5;124m\"\u001b[39m\u001b[38;5;124m100\u001b[39m\u001b[38;5;124m\"\u001b[39m\n\u001b[0;32m----> 2\u001b[0m \u001b[38;5;28mprint\u001b[39m(\u001b[38;5;124m\"\u001b[39m\u001b[38;5;124m税込価格は\u001b[39m\u001b[38;5;124m\"\u001b[39m, price \u001b[38;5;241m*\u001b[39m \u001b[38;5;241m1.1\u001b[39m, \u001b[38;5;124m\"\u001b[39m\u001b[38;5;124m円です\u001b[39m\u001b[38;5;124m\"\u001b[39m)\n",
      "\u001b[0;31mTypeError\u001b[0m: can't multiply sequence by non-int of type 'float'"
     ]
    }
   ],
   "source": [
    "price = \"100\"\n",
    "print(\"税込価格は\", price * 1.1, \"円です\")"
   ]
  },
  {
   "cell_type": "code",
   "execution_count": 17,
   "metadata": {},
   "outputs": [
    {
     "name": "stdout",
     "output_type": "stream",
     "text": [
      "num_str の型: <class 'str'>\n",
      "num_str の値: 100\n",
      "int_value の型: <class 'int'>\n",
      "int_value の値: 250\n"
     ]
    }
   ],
   "source": [
    "num = 100\n",
    "num_str = str(num)\n",
    "\n",
    "print(\"num_str の型:\", type(num_str))\n",
    "print(\"num_str の値:\", num_str)\n",
    "\n",
    "str_value = \"250\"\n",
    "int_value = int(str_value)\n",
    "\n",
    "print(\"int_value の型:\", type(int_value))\n",
    "print(\"int_value の値:\", int_value)"
   ]
  },
  {
   "cell_type": "code",
   "execution_count": 18,
   "metadata": {},
   "outputs": [
    {
     "name": "stdout",
     "output_type": "stream",
     "text": [
      "こんにちは、太郎さん!\n"
     ]
    }
   ],
   "source": [
    "name = input(\"名前を入力してください: \")\n",
    "print(\"こんにちは、\" + name + \"さん!\")"
   ]
  },
  {
   "cell_type": "code",
   "execution_count": 19,
   "metadata": {},
   "outputs": [
    {
     "name": "stdout",
     "output_type": "stream",
     "text": [
      "入力した数値に10を足すと 15 です\n"
     ]
    }
   ],
   "source": [
    "num = int(input(\"数値を入力してください: \"))\n",
    "result = num + 10\n",
    "print(\"入力した数値に10を足すと\", result, \"です\")"
   ]
  },
  {
   "cell_type": "code",
   "execution_count": 20,
   "metadata": {},
   "outputs": [
    {
     "name": "stdout",
     "output_type": "stream",
     "text": [
      "a < b: True\n",
      "a == b: False\n"
     ]
    }
   ],
   "source": [
    "a = 5\n",
    "b = 10\n",
    "\n",
    "result = a < b\n",
    "\n",
    "equal_result = a == b\n",
    "\n",
    "print(\"a < b:\", result)\n",
    "print(\"a == b:\", equal_result)"
   ]
  },
  {
   "cell_type": "code",
   "execution_count": 21,
   "metadata": {},
   "outputs": [
    {
     "name": "stdout",
     "output_type": "stream",
     "text": [
      "False\n",
      "True\n",
      "False\n",
      "True\n"
     ]
    }
   ],
   "source": [
    "print(bool(0))\n",
    "print(bool(1))\n",
    "print(bool(\"\"))\n",
    "print(bool(\"Hello\"))"
   ]
  },
  {
   "cell_type": "code",
   "execution_count": 22,
   "metadata": {},
   "outputs": [
    {
     "name": "stdout",
     "output_type": "stream",
     "text": [
      "2\n",
      "10\n",
      "5\n"
     ]
    }
   ],
   "source": [
    "print(True + True)\n",
    "print(True * 10)\n",
    "print(False + 5) "
   ]
  },
  {
   "cell_type": "code",
   "execution_count": 23,
   "metadata": {},
   "outputs": [
    {
     "name": "stdout",
     "output_type": "stream",
     "text": [
      "私の名前はジョンです。私は30歳です。\n"
     ]
    }
   ],
   "source": [
    "name = \"ジョン\"\n",
    "age = 30\n",
    "print(f\"私の名前は{name}です。私は{age}歳です。\")"
   ]
  },
  {
   "cell_type": "code",
   "execution_count": 24,
   "metadata": {},
   "outputs": [
    {
     "name": "stdout",
     "output_type": "stream",
     "text": [
      "5足す10は15です。\n"
     ]
    }
   ],
   "source": [
    "a = 5\n",
    "b = 10\n",
    "print(f\"{a}足す{b}は{a + b}です。\")"
   ]
  },
  {
   "cell_type": "code",
   "execution_count": 33,
   "metadata": {},
   "outputs": [
    {
     "name": "stdout",
     "output_type": "stream",
     "text": [
      "小数点以下の桁数: 3.14\n",
      "カンマ区切り: 1,234,567,890\n",
      "文字列の幅「Alice     」\n",
      "ゼロ埋め: 00042\n",
      "パーセント表示: 85.6%\n",
      "左揃え　「Alice     」\n",
      "右揃え　「     Alice」\n",
      "中央揃え「  Alice   」\n",
      "現在日時: 2025-03-05 16:01:00\n"
     ]
    }
   ],
   "source": [
    "pi = 3.14159\n",
    "print(f\"小数点以下の桁数: {pi:.2f}\")\n",
    "\n",
    "large_number = 1234567890\n",
    "print(f\"カンマ区切り: {large_number:,}\")\n",
    "\n",
    "name = \"Alice\"\n",
    "print(f\"文字列の幅「{name:10}」\")\n",
    "\n",
    "num = 42\n",
    "print(f\"ゼロ埋め: {num:05}\")\n",
    "\n",
    "accuracy = 0.856\n",
    "print(f\"パーセント表示: {accuracy:.1%}\")\n",
    "\n",
    "name = \"Alice\"\n",
    "print(f\"左揃え　「{name:<10}」\")\n",
    "print(f\"右揃え　「{name:>10}」\")\n",
    "print(f\"中央揃え「{name:^10}」\")\n",
    "\n",
    "from datetime import datetime\n",
    "now = datetime.now()\n",
    "print(f\"現在日時: {now:%Y-%m-%d %H:%M:%S}\")"
   ]
  },
  {
   "cell_type": "code",
   "execution_count": 34,
   "metadata": {},
   "outputs": [
    {
     "name": "stdout",
     "output_type": "stream",
     "text": [
      "まだ値が設定されていません\n"
     ]
    }
   ],
   "source": [
    "value = None\n",
    "if value is None:\n",
    "    print(\"まだ値が設定されていません\")"
   ]
  },
  {
   "cell_type": "code",
   "execution_count": 35,
   "metadata": {},
   "outputs": [
    {
     "name": "stdout",
     "output_type": "stream",
     "text": [
      "Hello!\n",
      "None\n"
     ]
    }
   ],
   "source": [
    "def greet():\n",
    "    print(\"Hello!\")\n",
    "\n",
    "result = greet()\n",
    "print(result)   "
   ]
  },
  {
   "cell_type": "code",
   "execution_count": 36,
   "metadata": {},
   "outputs": [
    {
     "name": "stdout",
     "output_type": "stream",
     "text": [
      "データがありません\n"
     ]
    }
   ],
   "source": [
    "data = None\n",
    "if data is None:\n",
    "    print(\"データがありません\")"
   ]
  }
 ],
 "metadata": {
  "kernelspec": {
   "display_name": "base",
   "language": "python",
   "name": "python3"
  },
  "language_info": {
   "codemirror_mode": {
    "name": "ipython",
    "version": 3
   },
   "file_extension": ".py",
   "mimetype": "text/x-python",
   "name": "python",
   "nbconvert_exporter": "python",
   "pygments_lexer": "ipython3",
   "version": "3.12.2"
  }
 },
 "nbformat": 4,
 "nbformat_minor": 2
}
