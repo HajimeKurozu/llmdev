{
 "cells": [
  {
   "cell_type": "code",
   "execution_count": 2,
   "metadata": {},
   "outputs": [
    {
     "name": "stdout",
     "output_type": "stream",
     "text": [
      "送料として350円かかります\n",
      "送料込みの価格は2000円です。\n"
     ]
    }
   ],
   "source": [
    "price_wo_tax = int(input('税抜価格を入力してください：'))\n",
    "price_w_tax = round(price_wo_tax * 1.1)\n",
    "if price_w_tax >= 2000:\n",
    "  print('送料は無料です')\n",
    "else:\n",
    "  print('送料として350円かかります')\n",
    "  price_w_tax += 350\n",
    "print(f'送料込みの価格は{price_w_tax}円です。')"
   ]
  }
 ],
 "metadata": {
  "kernelspec": {
   "display_name": "base",
   "language": "python",
   "name": "python3"
  },
  "language_info": {
   "codemirror_mode": {
    "name": "ipython",
    "version": 3
   },
   "file_extension": ".py",
   "mimetype": "text/x-python",
   "name": "python",
   "nbconvert_exporter": "python",
   "pygments_lexer": "ipython3",
   "version": "3.12.2"
  }
 },
 "nbformat": 4,
 "nbformat_minor": 2
}
